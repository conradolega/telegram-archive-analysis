{
 "cells": [
  {
   "cell_type": "markdown",
   "id": "37212316-3058-43c9-a7fa-df6507934820",
   "metadata": {},
   "source": [
    "# Telegram archive analysis\n",
    "\n",
    "Getting some insights from Telegram messages"
   ]
  },
  {
   "cell_type": "code",
   "execution_count": 1,
   "id": "46f0b6bc-7bc1-4720-895c-f12859608803",
   "metadata": {},
   "outputs": [],
   "source": [
    "import json\n",
    "import matplotlib.pyplot as plt\n",
    "import pandas as pd\n",
    "from collections import Counter\n",
    "from datetime import datetime, date"
   ]
  },
  {
   "cell_type": "markdown",
   "id": "90cc637a-b0c7-4506-bcda-3a2fa51aa08a",
   "metadata": {},
   "source": [
    "This notebook requires that Telegram data be exported in JSON format."
   ]
  },
  {
   "cell_type": "code",
   "execution_count": 2,
   "id": "aff028f5-0959-49c3-88d2-96343954c421",
   "metadata": {},
   "outputs": [],
   "source": [
    "filepath = 'result.json'\n",
    "with open(filepath) as f:\n",
    "    data = json.load(f)\n",
    "messages = data['messages']"
   ]
  },
  {
   "cell_type": "markdown",
   "id": "e94f0046-b2e1-4d24-84e3-f2c84c10f83c",
   "metadata": {},
   "source": [
    "There are multiple message types in Telegram, each with different fields. To get a sample of what the message types look like, you can print a few."
   ]
  },
  {
   "cell_type": "code",
   "execution_count": 3,
   "id": "bb93c0cd-10c5-4453-8e53-102623d099ed",
   "metadata": {},
   "outputs": [
    {
     "data": {
      "text/plain": [
       "[{'id': 14742,\n",
       "  'type': 'service',\n",
       "  'date': '2023-10-01T20:04:28',\n",
       "  'date_unixtime': '1696161868',\n",
       "  'actor': 'Conrad',\n",
       "  'actor_id': 'user12345',\n",
       "  'action': 'create_group',\n",
       "  'title': 'Test',\n",
       "  'members': ['Conrad'],\n",
       "  'text': '',\n",
       "  'text_entities': []},\n",
       " {'id': 14743,\n",
       "  'type': 'message',\n",
       "  'date': '2023-10-01T20:04:34',\n",
       "  'date_unixtime': '1696161874',\n",
       "  'from': 'Conrad',\n",
       "  'from_id': 'user12345',\n",
       "  'text': 'testing',\n",
       "  'text_entities': [{'type': 'plain', 'text': 'testing'}]},\n",
       " {'id': 14744,\n",
       "  'type': 'message',\n",
       "  'date': '2023-10-01T20:04:45',\n",
       "  'date_unixtime': '1696161885',\n",
       "  'from': 'Conrad',\n",
       "  'from_id': 'user12345',\n",
       "  'file': '(File not included. Change data exporting settings to download.)',\n",
       "  'thumbnail': '(File not included. Change data exporting settings to download.)',\n",
       "  'media_type': 'sticker',\n",
       "  'sticker_emoji': '👋',\n",
       "  'width': 512,\n",
       "  'height': 512,\n",
       "  'text': '',\n",
       "  'text_entities': []},\n",
       " {'id': 14745,\n",
       "  'type': 'message',\n",
       "  'date': '2023-10-01T20:05:24',\n",
       "  'date_unixtime': '1696161924',\n",
       "  'from': 'Conrad',\n",
       "  'from_id': 'user12345',\n",
       "  'photo': '(File not included. Change data exporting settings to download.)',\n",
       "  'width': 1280,\n",
       "  'height': 720,\n",
       "  'text': '',\n",
       "  'text_entities': []},\n",
       " {'id': 14746,\n",
       "  'type': 'message',\n",
       "  'date': '2023-10-01T20:05:34',\n",
       "  'date_unixtime': '1696161934',\n",
       "  'from': 'Conrad',\n",
       "  'from_id': 'user12345',\n",
       "  'text': [{'type': 'link', 'text': 'https://www.google.com/'}],\n",
       "  'text_entities': [{'type': 'link', 'text': 'https://www.google.com/'}]}]"
      ]
     },
     "execution_count": 3,
     "metadata": {},
     "output_type": "execute_result"
    }
   ],
   "source": [
    "messages[:5]"
   ]
  },
  {
   "cell_type": "markdown",
   "id": "8da022f2-5a33-4bde-8f0e-59af842a2615",
   "metadata": {},
   "source": [
    "## Which members are most active?\n",
    "\n",
    "To get the most active members, we get the author of each message in the archive, store them in a list, then create a `Counter` over the list."
   ]
  },
  {
   "cell_type": "code",
   "execution_count": 4,
   "id": "e7f12280-802b-44f7-8fc1-65788de588a9",
   "metadata": {},
   "outputs": [
    {
     "data": {
      "text/plain": [
       "Counter({'Joe': 6, 'Conrad': 5})"
      ]
     },
     "execution_count": 4,
     "metadata": {},
     "output_type": "execute_result"
    }
   ],
   "source": [
    "authors = [message['from'] for message in messages if 'from' in message]\n",
    "message_counts = Counter(authors)\n",
    "message_counts"
   ]
  },
  {
   "cell_type": "markdown",
   "id": "73d50658-1de6-45fb-814b-1cfc790d6126",
   "metadata": {},
   "source": [
    "## Chat activity over time\n",
    "\n",
    "Each message also has a date field. We will parse this field and extract the day that the message was sent. Then we will feed the day to a `Counter` instance again, and plot the number of messages per day."
   ]
  },
  {
   "cell_type": "code",
   "execution_count": 5,
   "id": "e048fa57-caee-4d3d-ab9c-b18c01ea2fc1",
   "metadata": {},
   "outputs": [
    {
     "data": {
      "text/html": [
       "<div>\n",
       "<style scoped>\n",
       "    .dataframe tbody tr th:only-of-type {\n",
       "        vertical-align: middle;\n",
       "    }\n",
       "\n",
       "    .dataframe tbody tr th {\n",
       "        vertical-align: top;\n",
       "    }\n",
       "\n",
       "    .dataframe thead th {\n",
       "        text-align: right;\n",
       "    }\n",
       "</style>\n",
       "<table border=\"1\" class=\"dataframe\">\n",
       "  <thead>\n",
       "    <tr style=\"text-align: right;\">\n",
       "      <th></th>\n",
       "      <th>count</th>\n",
       "    </tr>\n",
       "    <tr>\n",
       "      <th>date</th>\n",
       "      <th></th>\n",
       "    </tr>\n",
       "  </thead>\n",
       "  <tbody>\n",
       "    <tr>\n",
       "      <th>2023-10-01</th>\n",
       "      <td>6</td>\n",
       "    </tr>\n",
       "    <tr>\n",
       "      <th>2023-10-02</th>\n",
       "      <td>5</td>\n",
       "    </tr>\n",
       "  </tbody>\n",
       "</table>\n",
       "</div>"
      ],
      "text/plain": [
       "            count\n",
       "date             \n",
       "2023-10-01      6\n",
       "2023-10-02      5"
      ]
     },
     "execution_count": 5,
     "metadata": {},
     "output_type": "execute_result"
    }
   ],
   "source": [
    "days = [datetime.fromisoformat(message['date']).strftime('%Y-%m-%d') for message in messages if 'from' in message]\n",
    "day_counts = Counter(days)\n",
    "\n",
    "df = pd.DataFrame.from_dict(day_counts, orient='index').reset_index()\n",
    "df = df.rename(columns={'index': 'date', 0: 'count'})\n",
    "df = df.set_index('date')\n",
    "\n",
    "df"
   ]
  },
  {
   "cell_type": "code",
   "execution_count": 7,
   "id": "9151ff89-b9c0-49cb-a918-956a6b49c57f",
   "metadata": {},
   "outputs": [
    {
     "data": {
      "text/plain": [
       "<Axes: xlabel='date'>"
      ]
     },
     "execution_count": 7,
     "metadata": {},
     "output_type": "execute_result"
    },
    {
     "data": {
      "image/png": "[encoded data removed]",
      "text/plain": [
       "<Figure size 640x480 with 1 Axes>"
      ]
     },
     "metadata": {},
     "output_type": "display_data"
    }
   ],
   "source": [
    "df.plot(ylim=(0, 10))"
   ]
  }
 ],
 "metadata": {
  "kernelspec": {
   "display_name": "Python 3 (ipykernel)",
   "language": "python",
   "name": "python3"
  },
  "language_info": {
   "codemirror_mode": {
    "name": "ipython",
    "version": 3
   },
   "file_extension": ".py",
   "mimetype": "text/x-python",
   "name": "python",
   "nbconvert_exporter": "python",
   "pygments_lexer": "ipython3",
   "version": "3.10.6"
  }
 },
 "nbformat": 4,
 "nbformat_minor": 5
}
